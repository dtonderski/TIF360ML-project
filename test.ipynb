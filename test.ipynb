{
 "cells": [
  {
   "cell_type": "code",
   "execution_count": 13,
   "id": "breathing-transport",
   "metadata": {},
   "outputs": [
    {
     "name": "stdout",
     "output_type": "stream",
     "text": [
      "0.05712890625\n",
      "0.0496826171875\n",
      "0.04730224609375\n",
      "0.044830322265625\n",
      "0.05096435546875\n",
      "0.044036865234375\n",
      "0.0457763671875\n",
      "0.00799560546875\n",
      "0.046783447265625\n",
      "0.05291748046875\n",
      "0.06414794921875\n",
      "0.07196044921875\n",
      "0.0491943359375\n",
      "0.011199951171875\n",
      "0.04388427734375\n",
      "0.057708740234375\n",
      "0.04132080078125\n",
      "0.0430908203125\n"
     ]
    },
    {
     "ename": "KeyboardInterrupt",
     "evalue": "",
     "output_type": "error",
     "traceback": [
      "\u001b[1;31m---------------------------------------------------------------------------\u001b[0m",
      "\u001b[1;31mKeyboardInterrupt\u001b[0m                         Traceback (most recent call last)",
      "\u001b[1;32m<ipython-input-13-65be8250d647>\u001b[0m in \u001b[0;36m<module>\u001b[1;34m\u001b[0m\n\u001b[0;32m    190\u001b[0m         \u001b[1;31m# Show spec and wait for enter key\u001b[0m\u001b[1;33m\u001b[0m\u001b[1;33m\u001b[0m\u001b[1;33m\u001b[0m\u001b[0m\n\u001b[0;32m    191\u001b[0m         \u001b[0mcv2\u001b[0m\u001b[1;33m.\u001b[0m\u001b[0mimshow\u001b[0m\u001b[1;33m(\u001b[0m\u001b[1;34m'SPEC'\u001b[0m\u001b[1;33m,\u001b[0m \u001b[0mspec\u001b[0m\u001b[1;33m)\u001b[0m\u001b[1;33m\u001b[0m\u001b[1;33m\u001b[0m\u001b[0m\n\u001b[1;32m--> 192\u001b[1;33m         \u001b[0mcv2\u001b[0m\u001b[1;33m.\u001b[0m\u001b[0mwaitKey\u001b[0m\u001b[1;33m(\u001b[0m\u001b[1;33m-\u001b[0m\u001b[1;36m1\u001b[0m\u001b[1;33m)\u001b[0m\u001b[1;33m\u001b[0m\u001b[1;33m\u001b[0m\u001b[0m\n\u001b[0m",
      "\u001b[1;31mKeyboardInterrupt\u001b[0m: "
     ]
    }
   ],
   "source": [
    "import os\n",
    "\n",
    "import numpy as np\n",
    "import librosa\n",
    "\n",
    "import cv2\n",
    "\n",
    "def openAudioFile(path, sample_rate=44100, as_mono=True, mean_substract=False):\n",
    "    \n",
    "    # Open file with librosa (uses ffmpeg or libav)\n",
    "    sig, rate = librosa.load(path, sr=sample_rate, mono=as_mono)\n",
    "\n",
    "    # Noise reduction?\n",
    "    if mean_substract:\n",
    "        sig -= sig.mean()\n",
    "\n",
    "    return sig, rate\n",
    "\n",
    "def splitSignal(sig, rate, seconds, overlap, minlen):\n",
    "\n",
    "    # Split signal with overlap\n",
    "    sig_splits = []\n",
    "    for i in range(0, len(sig), int((seconds - overlap) * rate)):\n",
    "        split = sig[i:i + int(seconds * rate)]\n",
    "\n",
    "        # End of signal?\n",
    "        if len(split) < int(minlen * rate):\n",
    "            break\n",
    "        \n",
    "        # Signal chunk too short?\n",
    "        if len(split) < int(rate * seconds):\n",
    "            split = np.hstack((split, np.zeros((int(rate * seconds) - len(split),))))\n",
    "        \n",
    "        sig_splits.append(split)\n",
    "\n",
    "    return sig_splits\n",
    "\n",
    "def melspec(sig, rate, shape=(128, 256), fmin=500, fmax=15000, normalize=True, preemphasis=0.95):\n",
    "\n",
    "    # shape = (height, width) in pixels\n",
    "\n",
    "    # Mel-Spec parameters\n",
    "    SAMPLE_RATE = rate\n",
    "    N_FFT = shape[0] * 8 # = window length\n",
    "    N_MELS = shape[0]\n",
    "    HOP_LEN = len(sig) // (shape[1] - 1)    \n",
    "    FMAX = fmax\n",
    "    FMIN = fmin\n",
    "\n",
    "    # Preemphasis as in python_speech_features by James Lyons\n",
    "    if preemphasis:\n",
    "        sig = np.append(sig[0], sig[1:] - preemphasis * sig[:-1])\n",
    "\n",
    "    # Librosa mel-spectrum\n",
    "    melspec = librosa.feature.melspectrogram(y=sig, sr=SAMPLE_RATE, hop_length=HOP_LEN, n_fft=N_FFT, n_mels=N_MELS, fmax=FMAX, fmin=FMIN, power=1.0)\n",
    "    \n",
    "    # Convert power spec to dB scale (compute dB relative to peak power)\n",
    "    melspec = librosa.amplitude_to_db(melspec, ref=np.max, top_db=80)\n",
    "\n",
    "    # Flip spectrum vertically (only for better visialization, low freq. at bottom)\n",
    "    melspec = melspec[::-1, ...]\n",
    "\n",
    "    # Trim to desired shape if too large\n",
    "    melspec = melspec[:shape[0], :shape[1]]\n",
    "\n",
    "    # Normalize values between 0 and 1\n",
    "    if normalize:\n",
    "        melspec -= melspec.min()\n",
    "        if not melspec.max() == 0:\n",
    "            melspec /= melspec.max()\n",
    "        else:\n",
    "            mlspec = np.clip(melspec, 0, 1)\n",
    "\n",
    "    return melspec.astype('float32')\n",
    "\n",
    "\n",
    "def get_spec(sig, rate, shape, spec_type='linear', **kwargs):\n",
    "    return melspec(sig, rate, shape, **kwargs)\n",
    "\n",
    "def signal2noise(spec):\n",
    "\n",
    "    # Get working copy\n",
    "    spec = spec.copy()\n",
    "\n",
    "    # Calculate median for columns and rows\n",
    "    col_median = np.median(spec, axis=0, keepdims=True)\n",
    "    row_median = np.median(spec, axis=1, keepdims=True)\n",
    "\n",
    "    # Binary threshold\n",
    "    spec[spec < row_median * 1.25] = 0.0\n",
    "    spec[spec < col_median * 1.15] = 0.0\n",
    "    spec[spec > 0] = 1.0\n",
    "\n",
    "    # Median blur\n",
    "    spec = cv2.medianBlur(spec, 3)\n",
    "\n",
    "    # Morphology\n",
    "    spec = cv2.morphologyEx(spec, cv2.MORPH_CLOSE, np.ones((3, 3), np.float32))\n",
    "\n",
    "    # Sum of all values\n",
    "    spec_sum = spec.sum()\n",
    "\n",
    "    # Signal to noise ratio (higher is better)\n",
    "    try:\n",
    "        s2n = spec_sum / (spec.shape[0] * spec.shape[1] * spec.shape[2])\n",
    "    except:\n",
    "        s2n = spec_sum / (spec.shape[0] * spec.shape[1])\n",
    "\n",
    "    return s2n\n",
    "\n",
    "def specsFromSignal(sig, rate, shape, seconds, overlap, minlen, **kwargs):\n",
    "\n",
    "    # Split signal in consecutive chunks with overlap\n",
    "    sig_splits = splitSignal(sig, rate, seconds, overlap, minlen)\n",
    "\n",
    "    # Extract specs for every sig split\n",
    "    for sig in sig_splits:\n",
    "\n",
    "        # Get spec for signal chunk\n",
    "        spec = get_spec(sig, rate, shape, **kwargs)\n",
    "\n",
    "        yield spec\n",
    "\n",
    "def specsFromFile(path, rate, seconds, overlap, minlen, shape, start=-1, end=-1, **kwargs):\n",
    "\n",
    "    # Open file\n",
    "    sig, rate = openAudioFile(path, rate)\n",
    "\n",
    "    # Trim signal?\n",
    "    if start > -1 and end > -1:\n",
    "        sig = sig[int(start * rate):int(end * rate)]\n",
    "        minlen = 0\n",
    "\n",
    "    # Yield all specs for file\n",
    "    for spec in specsFromSignal(sig, rate, shape, seconds, overlap, minlen, **kwargs):\n",
    "        yield spec\n",
    "    \n",
    "if __name__ == '__main__':\n",
    "\n",
    "    \n",
    "    for spec in specsFromFile('./data/birdclef-2021/train_short_audio/acafly/XC6671.ogg',\n",
    "                              rate=32000,\n",
    "                              seconds=2,\n",
    "                              overlap=1,\n",
    "                              minlen=1,\n",
    "                              shape=(128, 256),\n",
    "                              fmin=500,\n",
    "                              fmax=22500,\n",
    "                              spec_type='melspec'):\n",
    "\n",
    "        # Calculate and show noise measure\n",
    "        noise = signal2noise(spec)\n",
    "        print(noise)\n",
    "\n",
    "        # Show spec and wait for enter key\n",
    "        cv2.imshow('SPEC', spec)\n",
    "        cv2.waitKey(-1)"
   ]
  },
  {
   "cell_type": "code",
   "execution_count": null,
   "id": "unique-hopkins",
   "metadata": {
    "scrolled": true
   },
   "outputs": [],
   "source": [
    "cv2.destroyAllWindows()"
   ]
  },
  {
   "cell_type": "code",
   "execution_count": 7,
   "id": "provincial-swimming",
   "metadata": {},
   "outputs": [
    {
     "data": {
      "text/plain": [
       "[<matplotlib.lines.Line2D at 0x1d3a2d0a670>]"
      ]
     },
     "execution_count": 7,
     "metadata": {},
     "output_type": "execute_result"
    },
    {
     "data": {
      "image/png": "[encoded data removed]",
      "text/plain": [
       "<Figure size 432x288 with 1 Axes>"
      ]
     },
     "metadata": {
      "needs_background": "light"
     },
     "output_type": "display_data"
    }
   ],
   "source": [
    "from matplotlib import pyplot as plt\n",
    "audio_path = './data/birdclef-2021/train_short_audio/acafly/XC6671.ogg'\n",
    "sig, rate = librosa.load(audio_path, sr=None, offset=None, duration=None)\n",
    "plt.plot(sig)"
   ]
  },
  {
   "cell_type": "code",
   "execution_count": 17,
   "id": "mature-lincoln",
   "metadata": {},
   "outputs": [],
   "source": [
    "a = np.array([[[1,2], [1,2]],[[1,2],[1,2]]])"
   ]
  },
  {
   "cell_type": "code",
   "execution_count": 20,
   "id": "computational-audience",
   "metadata": {},
   "outputs": [
    {
     "name": "stdout",
     "output_type": "stream",
     "text": [
      "[[[1 2]\n",
      "  [1 2]]\n",
      "\n",
      " [[1 2]\n",
      "  [1 2]]]\n",
      "(2, 2, 2)\n"
     ]
    },
    {
     "ename": "IndexError",
     "evalue": "tuple index out of range",
     "output_type": "error",
     "traceback": [
      "\u001b[1;31m---------------------------------------------------------------------------\u001b[0m",
      "\u001b[1;31mIndexError\u001b[0m                                Traceback (most recent call last)",
      "\u001b[1;32m<ipython-input-20-839f9a31d77c>\u001b[0m in \u001b[0;36m<module>\u001b[1;34m\u001b[0m\n\u001b[0;32m      1\u001b[0m \u001b[0mprint\u001b[0m\u001b[1;33m(\u001b[0m\u001b[0ma\u001b[0m\u001b[1;33m)\u001b[0m\u001b[1;33m\u001b[0m\u001b[1;33m\u001b[0m\u001b[0m\n\u001b[0;32m      2\u001b[0m \u001b[0mprint\u001b[0m\u001b[1;33m(\u001b[0m\u001b[0ma\u001b[0m\u001b[1;33m.\u001b[0m\u001b[0mshape\u001b[0m\u001b[1;33m)\u001b[0m\u001b[1;33m\u001b[0m\u001b[1;33m\u001b[0m\u001b[0m\n\u001b[1;32m----> 3\u001b[1;33m \u001b[0ma\u001b[0m\u001b[1;33m.\u001b[0m\u001b[0mshape\u001b[0m\u001b[1;33m[\u001b[0m\u001b[1;36m3\u001b[0m\u001b[1;33m]\u001b[0m\u001b[1;33m\u001b[0m\u001b[1;33m\u001b[0m\u001b[0m\n\u001b[0m",
      "\u001b[1;31mIndexError\u001b[0m: tuple index out of range"
     ]
    }
   ],
   "source": [
    "print(a)\n",
    "print(a.shape)\n",
    "a.shape[3]"
   ]
  },
  {
   "cell_type": "code",
   "execution_count": null,
   "id": "solid-administration",
   "metadata": {},
   "outputs": [],
   "source": []
  }
 ],
 "metadata": {
  "kernelspec": {
   "display_name": "Python 3",
   "language": "python",
   "name": "python3"
  },
  "language_info": {
   "codemirror_mode": {
    "name": "ipython",
    "version": 3
   },
   "file_extension": ".py",
   "mimetype": "text/x-python",
   "name": "python",
   "nbconvert_exporter": "python",
   "pygments_lexer": "ipython3",
   "version": "3.8.7"
  }
 },
 "nbformat": 4,
 "nbformat_minor": 5
}
