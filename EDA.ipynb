{
 "cells": [
  {
   "cell_type": "code",
   "execution_count": 1,
   "id": "3cb95cd4-22ef-48da-a290-97c73f178753",
   "metadata": {},
   "outputs": [],
   "source": [
    "import numpy as np\n",
    "import pandas as pd\n",
    "import librosa\n",
    "import librosa.display\n",
    "import os\n",
    "import matplotlib.pyplot as plt\n",
    "import random\n",
    "from collections import defaultdict\n",
    "import random"
   ]
  },
  {
   "cell_type": "code",
   "execution_count": 2,
   "id": "641c4551-0893-4b62-880a-073c3e93c944",
   "metadata": {},
   "outputs": [],
   "source": [
    "cwd = os.getcwd()\n",
    "data_dir = os.path.join(cwd, \"data\", \"birdclef-2021\")\n",
    "image_dir = os.path.join(cwd, \"data\", \"birdclef-2021-parsed\", \"train_short_audio\")\n",
    "train_sounds_dir = os.path.join(data_dir, 'train_short_audio')"
   ]
  },
  {
   "cell_type": "code",
   "execution_count": 3,
   "id": "a19cf32e-3c68-4f57-85df-f67dd44a30e8",
   "metadata": {},
   "outputs": [],
   "source": [
    "fileMetadata = os.path.join(data_dir, 'train_metadata.csv')\n",
    "metadata = pd.read_csv(fileMetadata)"
   ]
  },
  {
   "cell_type": "code",
   "execution_count": 6,
   "id": "6f07f8e8-7598-4c61-ae22-ee42bf2b37c3",
   "metadata": {},
   "outputs": [
    {
     "data": {
      "text/html": [
       "<div>\n",
       "<style scoped>\n",
       "    .dataframe tbody tr th:only-of-type {\n",
       "        vertical-align: middle;\n",
       "    }\n",
       "\n",
       "    .dataframe tbody tr th {\n",
       "        vertical-align: top;\n",
       "    }\n",
       "\n",
       "    .dataframe thead th {\n",
       "        text-align: right;\n",
       "    }\n",
       "</style>\n",
       "<table border=\"1\" class=\"dataframe\">\n",
       "  <thead>\n",
       "    <tr style=\"text-align: right;\">\n",
       "      <th></th>\n",
       "      <th>primary_label</th>\n",
       "      <th>secondary_labels</th>\n",
       "      <th>type</th>\n",
       "      <th>latitude</th>\n",
       "      <th>longitude</th>\n",
       "      <th>scientific_name</th>\n",
       "      <th>common_name</th>\n",
       "      <th>author</th>\n",
       "      <th>date</th>\n",
       "      <th>filename</th>\n",
       "      <th>license</th>\n",
       "      <th>rating</th>\n",
       "      <th>time</th>\n",
       "      <th>url</th>\n",
       "    </tr>\n",
       "  </thead>\n",
       "  <tbody>\n",
       "    <tr>\n",
       "      <th>0</th>\n",
       "      <td>acafly</td>\n",
       "      <td>['amegfi']</td>\n",
       "      <td>['begging call', 'call', 'juvenile']</td>\n",
       "      <td>35.3860</td>\n",
       "      <td>-84.1250</td>\n",
       "      <td>Empidonax virescens</td>\n",
       "      <td>Acadian Flycatcher</td>\n",
       "      <td>Mike Nelson</td>\n",
       "      <td>2012-08-12</td>\n",
       "      <td>XC109605.ogg</td>\n",
       "      <td>Creative Commons Attribution-NonCommercial-Sha...</td>\n",
       "      <td>2.5</td>\n",
       "      <td>09:30</td>\n",
       "      <td>https://www.xeno-canto.org/109605</td>\n",
       "    </tr>\n",
       "    <tr>\n",
       "      <th>1</th>\n",
       "      <td>acafly</td>\n",
       "      <td>[]</td>\n",
       "      <td>['call']</td>\n",
       "      <td>9.1334</td>\n",
       "      <td>-79.6501</td>\n",
       "      <td>Empidonax virescens</td>\n",
       "      <td>Acadian Flycatcher</td>\n",
       "      <td>Allen T. Chartier</td>\n",
       "      <td>2000-12-26</td>\n",
       "      <td>XC11209.ogg</td>\n",
       "      <td>Creative Commons Attribution-NonCommercial-Sha...</td>\n",
       "      <td>3.0</td>\n",
       "      <td>?</td>\n",
       "      <td>https://www.xeno-canto.org/11209</td>\n",
       "    </tr>\n",
       "    <tr>\n",
       "      <th>2</th>\n",
       "      <td>acafly</td>\n",
       "      <td>[]</td>\n",
       "      <td>['call']</td>\n",
       "      <td>5.7813</td>\n",
       "      <td>-75.7452</td>\n",
       "      <td>Empidonax virescens</td>\n",
       "      <td>Acadian Flycatcher</td>\n",
       "      <td>Sergio Chaparro-Herrera</td>\n",
       "      <td>2012-01-10</td>\n",
       "      <td>XC127032.ogg</td>\n",
       "      <td>Creative Commons Attribution-NonCommercial-Sha...</td>\n",
       "      <td>3.0</td>\n",
       "      <td>15:20</td>\n",
       "      <td>https://www.xeno-canto.org/127032</td>\n",
       "    </tr>\n",
       "    <tr>\n",
       "      <th>3</th>\n",
       "      <td>acafly</td>\n",
       "      <td>['whwbec1']</td>\n",
       "      <td>['call']</td>\n",
       "      <td>4.6717</td>\n",
       "      <td>-75.6283</td>\n",
       "      <td>Empidonax virescens</td>\n",
       "      <td>Acadian Flycatcher</td>\n",
       "      <td>Oscar Humberto Marin-Gomez</td>\n",
       "      <td>2009-06-19</td>\n",
       "      <td>XC129974.ogg</td>\n",
       "      <td>Creative Commons Attribution-NonCommercial-Sha...</td>\n",
       "      <td>3.5</td>\n",
       "      <td>07:50</td>\n",
       "      <td>https://www.xeno-canto.org/129974</td>\n",
       "    </tr>\n",
       "    <tr>\n",
       "      <th>4</th>\n",
       "      <td>acafly</td>\n",
       "      <td>['whwbec1']</td>\n",
       "      <td>['call']</td>\n",
       "      <td>4.6717</td>\n",
       "      <td>-75.6283</td>\n",
       "      <td>Empidonax virescens</td>\n",
       "      <td>Acadian Flycatcher</td>\n",
       "      <td>Oscar Humberto Marin-Gomez</td>\n",
       "      <td>2009-06-19</td>\n",
       "      <td>XC129981.ogg</td>\n",
       "      <td>Creative Commons Attribution-NonCommercial-Sha...</td>\n",
       "      <td>3.5</td>\n",
       "      <td>07:50</td>\n",
       "      <td>https://www.xeno-canto.org/129981</td>\n",
       "    </tr>\n",
       "    <tr>\n",
       "      <th>...</th>\n",
       "      <td>...</td>\n",
       "      <td>...</td>\n",
       "      <td>...</td>\n",
       "      <td>...</td>\n",
       "      <td>...</td>\n",
       "      <td>...</td>\n",
       "      <td>...</td>\n",
       "      <td>...</td>\n",
       "      <td>...</td>\n",
       "      <td>...</td>\n",
       "      <td>...</td>\n",
       "      <td>...</td>\n",
       "      <td>...</td>\n",
       "      <td>...</td>\n",
       "    </tr>\n",
       "    <tr>\n",
       "      <th>62869</th>\n",
       "      <td>yetvir</td>\n",
       "      <td>[]</td>\n",
       "      <td>['adult', 'male', 'song']</td>\n",
       "      <td>30.2150</td>\n",
       "      <td>-97.6505</td>\n",
       "      <td>Vireo flavifrons</td>\n",
       "      <td>Yellow-throated Vireo</td>\n",
       "      <td>Caleb Helsel</td>\n",
       "      <td>2020-07-10</td>\n",
       "      <td>XC591680.ogg</td>\n",
       "      <td>Creative Commons Attribution-NonCommercial-Sha...</td>\n",
       "      <td>1.0</td>\n",
       "      <td>08:30</td>\n",
       "      <td>https://www.xeno-canto.org/591680</td>\n",
       "    </tr>\n",
       "    <tr>\n",
       "      <th>62870</th>\n",
       "      <td>yetvir</td>\n",
       "      <td>[]</td>\n",
       "      <td>['life stage uncertain', 'sex uncertain', 'song']</td>\n",
       "      <td>42.3005</td>\n",
       "      <td>-72.5877</td>\n",
       "      <td>Vireo flavifrons</td>\n",
       "      <td>Yellow-throated Vireo</td>\n",
       "      <td>Christopher McPherson</td>\n",
       "      <td>2019-05-31</td>\n",
       "      <td>XC600085.ogg</td>\n",
       "      <td>Creative Commons Attribution-NonCommercial-Sha...</td>\n",
       "      <td>5.0</td>\n",
       "      <td>09:30</td>\n",
       "      <td>https://www.xeno-canto.org/600085</td>\n",
       "    </tr>\n",
       "    <tr>\n",
       "      <th>62871</th>\n",
       "      <td>yetvir</td>\n",
       "      <td>['amered', 'eawpew', 'norcar', 'reevir1']</td>\n",
       "      <td>['adult', 'male', 'song']</td>\n",
       "      <td>42.3005</td>\n",
       "      <td>-72.5877</td>\n",
       "      <td>Vireo flavifrons</td>\n",
       "      <td>Yellow-throated Vireo</td>\n",
       "      <td>Christopher McPherson</td>\n",
       "      <td>2020-06-02</td>\n",
       "      <td>XC602701.ogg</td>\n",
       "      <td>Creative Commons Attribution-NonCommercial-Sha...</td>\n",
       "      <td>4.5</td>\n",
       "      <td>08:30</td>\n",
       "      <td>https://www.xeno-canto.org/602701</td>\n",
       "    </tr>\n",
       "    <tr>\n",
       "      <th>62872</th>\n",
       "      <td>yetvir</td>\n",
       "      <td>[]</td>\n",
       "      <td>['uncertain']</td>\n",
       "      <td>32.2357</td>\n",
       "      <td>-99.8811</td>\n",
       "      <td>Vireo flavifrons</td>\n",
       "      <td>Yellow-throated Vireo</td>\n",
       "      <td>Brad Banner</td>\n",
       "      <td>2019-04-27</td>\n",
       "      <td>XC614733.ogg</td>\n",
       "      <td>Creative Commons Attribution-NonCommercial-Sha...</td>\n",
       "      <td>4.0</td>\n",
       "      <td>17:30</td>\n",
       "      <td>https://www.xeno-canto.org/614733</td>\n",
       "    </tr>\n",
       "    <tr>\n",
       "      <th>62873</th>\n",
       "      <td>yetvir</td>\n",
       "      <td>['gamqua', 'whwdov']</td>\n",
       "      <td>['adult', 'male', 'song']</td>\n",
       "      <td>31.9060</td>\n",
       "      <td>-109.1543</td>\n",
       "      <td>Vireo flavifrons</td>\n",
       "      <td>Yellow-throated Vireo</td>\n",
       "      <td>Richard E. Webster</td>\n",
       "      <td>2020-05-26</td>\n",
       "      <td>XC615888.ogg</td>\n",
       "      <td>Creative Commons Attribution-NonCommercial-Sha...</td>\n",
       "      <td>4.5</td>\n",
       "      <td>06:23</td>\n",
       "      <td>https://www.xeno-canto.org/615888</td>\n",
       "    </tr>\n",
       "  </tbody>\n",
       "</table>\n",
       "<p>62874 rows × 14 columns</p>\n",
       "</div>"
      ],
      "text/plain": [
       "      primary_label                           secondary_labels  \\\n",
       "0            acafly                                 ['amegfi']   \n",
       "1            acafly                                         []   \n",
       "2            acafly                                         []   \n",
       "3            acafly                                ['whwbec1']   \n",
       "4            acafly                                ['whwbec1']   \n",
       "...             ...                                        ...   \n",
       "62869        yetvir                                         []   \n",
       "62870        yetvir                                         []   \n",
       "62871        yetvir  ['amered', 'eawpew', 'norcar', 'reevir1']   \n",
       "62872        yetvir                                         []   \n",
       "62873        yetvir                       ['gamqua', 'whwdov']   \n",
       "\n",
       "                                                    type  latitude  longitude  \\\n",
       "0                   ['begging call', 'call', 'juvenile']   35.3860   -84.1250   \n",
       "1                                               ['call']    9.1334   -79.6501   \n",
       "2                                               ['call']    5.7813   -75.7452   \n",
       "3                                               ['call']    4.6717   -75.6283   \n",
       "4                                               ['call']    4.6717   -75.6283   \n",
       "...                                                  ...       ...        ...   \n",
       "62869                          ['adult', 'male', 'song']   30.2150   -97.6505   \n",
       "62870  ['life stage uncertain', 'sex uncertain', 'song']   42.3005   -72.5877   \n",
       "62871                          ['adult', 'male', 'song']   42.3005   -72.5877   \n",
       "62872                                      ['uncertain']   32.2357   -99.8811   \n",
       "62873                          ['adult', 'male', 'song']   31.9060  -109.1543   \n",
       "\n",
       "           scientific_name            common_name                      author  \\\n",
       "0      Empidonax virescens     Acadian Flycatcher                 Mike Nelson   \n",
       "1      Empidonax virescens     Acadian Flycatcher           Allen T. Chartier   \n",
       "2      Empidonax virescens     Acadian Flycatcher     Sergio Chaparro-Herrera   \n",
       "3      Empidonax virescens     Acadian Flycatcher  Oscar Humberto Marin-Gomez   \n",
       "4      Empidonax virescens     Acadian Flycatcher  Oscar Humberto Marin-Gomez   \n",
       "...                    ...                    ...                         ...   \n",
       "62869     Vireo flavifrons  Yellow-throated Vireo                Caleb Helsel   \n",
       "62870     Vireo flavifrons  Yellow-throated Vireo       Christopher McPherson   \n",
       "62871     Vireo flavifrons  Yellow-throated Vireo       Christopher McPherson   \n",
       "62872     Vireo flavifrons  Yellow-throated Vireo                 Brad Banner   \n",
       "62873     Vireo flavifrons  Yellow-throated Vireo          Richard E. Webster   \n",
       "\n",
       "             date      filename  \\\n",
       "0      2012-08-12  XC109605.ogg   \n",
       "1      2000-12-26   XC11209.ogg   \n",
       "2      2012-01-10  XC127032.ogg   \n",
       "3      2009-06-19  XC129974.ogg   \n",
       "4      2009-06-19  XC129981.ogg   \n",
       "...           ...           ...   \n",
       "62869  2020-07-10  XC591680.ogg   \n",
       "62870  2019-05-31  XC600085.ogg   \n",
       "62871  2020-06-02  XC602701.ogg   \n",
       "62872  2019-04-27  XC614733.ogg   \n",
       "62873  2020-05-26  XC615888.ogg   \n",
       "\n",
       "                                                 license  rating   time  \\\n",
       "0      Creative Commons Attribution-NonCommercial-Sha...     2.5  09:30   \n",
       "1      Creative Commons Attribution-NonCommercial-Sha...     3.0      ?   \n",
       "2      Creative Commons Attribution-NonCommercial-Sha...     3.0  15:20   \n",
       "3      Creative Commons Attribution-NonCommercial-Sha...     3.5  07:50   \n",
       "4      Creative Commons Attribution-NonCommercial-Sha...     3.5  07:50   \n",
       "...                                                  ...     ...    ...   \n",
       "62869  Creative Commons Attribution-NonCommercial-Sha...     1.0  08:30   \n",
       "62870  Creative Commons Attribution-NonCommercial-Sha...     5.0  09:30   \n",
       "62871  Creative Commons Attribution-NonCommercial-Sha...     4.5  08:30   \n",
       "62872  Creative Commons Attribution-NonCommercial-Sha...     4.0  17:30   \n",
       "62873  Creative Commons Attribution-NonCommercial-Sha...     4.5  06:23   \n",
       "\n",
       "                                     url  \n",
       "0      https://www.xeno-canto.org/109605  \n",
       "1       https://www.xeno-canto.org/11209  \n",
       "2      https://www.xeno-canto.org/127032  \n",
       "3      https://www.xeno-canto.org/129974  \n",
       "4      https://www.xeno-canto.org/129981  \n",
       "...                                  ...  \n",
       "62869  https://www.xeno-canto.org/591680  \n",
       "62870  https://www.xeno-canto.org/600085  \n",
       "62871  https://www.xeno-canto.org/602701  \n",
       "62872  https://www.xeno-canto.org/614733  \n",
       "62873  https://www.xeno-canto.org/615888  \n",
       "\n",
       "[62874 rows x 14 columns]"
      ]
     },
     "execution_count": 6,
     "metadata": {},
     "output_type": "execute_result"
    }
   ],
   "source": [
    "metadata"
   ]
  },
  {
   "cell_type": "code",
   "execution_count": 7,
   "id": "1975291b-2930-403e-b089-184e5b808b94",
   "metadata": {},
   "outputs": [],
   "source": [
    "folderFile = metadata.groupby(by='primary_label')['filename'].apply(list)"
   ]
  },
  {
   "cell_type": "code",
   "execution_count": 8,
   "id": "c79e7846-5a97-46b8-8f85-da9fed08a4c8",
   "metadata": {},
   "outputs": [],
   "source": [
    "numFilesDistribution = folderFile.str.len()"
   ]
  },
  {
   "cell_type": "code",
   "execution_count": 9,
   "id": "c4a23ac7-22f8-4364-9a8a-6fcdcc0a7943",
   "metadata": {},
   "outputs": [],
   "source": [
    "numFilesDistribution = numFilesDistribution.sort_values(ascending=False).reset_index(name='counts')"
   ]
  },
  {
   "cell_type": "code",
   "execution_count": 10,
   "id": "a1337f6b-2d63-4597-95d2-1671fbf20655",
   "metadata": {},
   "outputs": [
    {
     "data": {
      "text/plain": [
       "Text(0.5, 1.0, 'Bird song distribution')"
      ]
     },
     "execution_count": 10,
     "metadata": {},
     "output_type": "execute_result"
    },
    {
     "data": {
      "image/png": "[encoded data removed]",
      "text/plain": [
       "<Figure size 432x288 with 1 Axes>"
      ]
     },
     "metadata": {
      "needs_background": "light"
     },
     "output_type": "display_data"
    }
   ],
   "source": [
    "plt.scatter(x=numFilesDistribution.index, y=numFilesDistribution.counts)\n",
    "plt.xlabel(\"Bird index\")\n",
    "plt.ylabel(\"Number of bird songs\")\n",
    "plt.title(\"Bird song distribution\")"
   ]
  },
  {
   "cell_type": "code",
   "execution_count": null,
   "id": "efb40d36-e3a4-4e81-aa8d-c246210c41fa",
   "metadata": {},
   "outputs": [],
   "source": [
    "fileSizeDistribution = defaultdict(list)\n",
    "birdsDone = 0\n",
    "numBirds = len(list(folderFile.keys()))\n",
    "for iBird in folderFile.keys():\n",
    "    birdsDone += 1\n",
    "    print(\"Bird %d of %d\" % (birdsDone, numBirds), end = '\\r')\n",
    "    print()\n",
    "    filePath = os.path.join(train_sounds_dir, iBird)\n",
    "    for iSound in folderFile[iBird]:\n",
    "        fileSizeDistribution[iBird].append(librosa.get_duration(filename=os.path.join(filePath, iSound)))"
   ]
  },
  {
   "cell_type": "code",
   "execution_count": 113,
   "id": "04892cf0-f1e6-40b2-9cc8-19a3208960bb",
   "metadata": {},
   "outputs": [],
   "source": [
    "import itertools\n",
    "fileLengths = list(fileSizeDistribution.values())\n",
    "fileLengths = list(itertools.chain.from_iterable(fileLengths))"
   ]
  },
  {
   "cell_type": "code",
   "execution_count": 118,
   "id": "3bdaac46-62f5-4de6-81f9-62615e1c98dd",
   "metadata": {},
   "outputs": [
    {
     "data": {
      "text/plain": [
       "Text(0.5, 1.0, 'Distribution of length of bird songs')"
      ]
     },
     "execution_count": 118,
     "metadata": {},
     "output_type": "execute_result"
    },
    {
     "data": {
      "image/png": "[encoded data removed]",
      "text/plain": [
       "<Figure size 432x288 with 1 Axes>"
      ]
     },
     "metadata": {
      "needs_background": "light"
     },
     "output_type": "display_data"
    }
   ],
   "source": [
    "fileLengths = -np.sort(-np.array(fileLengths))\n",
    "plt.scatter(x=np.arange(len(fileLengths)), y=fileLengths)\n",
    "plt.xlabel(\"Song index\")\n",
    "plt.ylabel(\"Time in seconds\")\n",
    "plt.title(\"Distribution of length of bird songs\")"
   ]
  },
  {
   "cell_type": "code",
   "execution_count": 148,
   "id": "a867565f-6af0-487b-9a0b-a95dc5e26b67",
   "metadata": {},
   "outputs": [],
   "source": [
    "numRandomBirds = 5\n",
    "randomBirdSong = dict()\n",
    "for iBird in range(numRandomBirds):\n",
    "    randomBird = random.choice(list(folderFile.keys()))\n",
    "    randomBirdSong[randomBird] = random.choice(folderFile[randomBird])"
   ]
  },
  {
   "cell_type": "code",
   "execution_count": 167,
   "id": "704bab29-c984-46f9-8bf0-1aee8d47d3c7",
   "metadata": {},
   "outputs": [
    {
     "data": {
      "image/png": "[encoded data removed]",
      "text/plain": [
       "<Figure size 432x288 with 5 Axes>"
      ]
     },
     "metadata": {
      "needs_background": "light"
     },
     "output_type": "display_data"
    }
   ],
   "source": [
    "fig, ax = plt.subplots(nrows=5, sharex=True, sharey=False)\n",
    "iPlot = 0\n",
    "for bird, song in randomBirdSong.items():\n",
    "    sig, rate = librosa.load(os.path.join(train_sounds_dir, bird, song), sr=32000, offset=None, duration=15)\n",
    "    librosa.display.waveplot(sig, sr=32000, ax=ax[iPlot])\n",
    "    ax[iPlot].set_title(bird , x=1.10, y=1.0, pad=-14)\n",
    "    ax[iPlot].label_outer()\n",
    "    ax[iPlot].set_yticklabels([])\n",
    "    iPlot += 1"
   ]
  },
  {
   "cell_type": "code",
   "execution_count": 24,
   "id": "3d27d536-2294-445c-8757-24a7289cb692",
   "metadata": {},
   "outputs": [],
   "source": [
    "from collections import Counter\n",
    "numImages = Counter()\n",
    "imageFolders = os.listdir(image_dir)\n",
    "for iBird in imageFolders:\n",
    "    numImages[iBird] = len(os.listdir(os.path.join(image_dir, iBird)))"
   ]
  },
  {
   "cell_type": "code",
   "execution_count": 37,
   "id": "c89e49f1-0c0a-40e5-a078-16d6885b1ef5",
   "metadata": {},
   "outputs": [],
   "source": [
    "numImagesDistribution = pd.Series(numImages).sort_values(ascending=False).reset_index(name=\"numImages\")"
   ]
  },
  {
   "cell_type": "code",
   "execution_count": 38,
   "id": "240b9be5-4370-434f-878e-825126f83ff9",
   "metadata": {},
   "outputs": [
    {
     "data": {
      "text/html": [
       "<div>\n",
       "<style scoped>\n",
       "    .dataframe tbody tr th:only-of-type {\n",
       "        vertical-align: middle;\n",
       "    }\n",
       "\n",
       "    .dataframe tbody tr th {\n",
       "        vertical-align: top;\n",
       "    }\n",
       "\n",
       "    .dataframe thead th {\n",
       "        text-align: right;\n",
       "    }\n",
       "</style>\n",
       "<table border=\"1\" class=\"dataframe\">\n",
       "  <thead>\n",
       "    <tr style=\"text-align: right;\">\n",
       "      <th></th>\n",
       "      <th>index</th>\n",
       "      <th>numImages</th>\n",
       "    </tr>\n",
       "  </thead>\n",
       "  <tbody>\n",
       "    <tr>\n",
       "      <th>0</th>\n",
       "      <td>noise</td>\n",
       "      <td>212254</td>\n",
       "    </tr>\n",
       "  </tbody>\n",
       "</table>\n",
       "</div>"
      ],
      "text/plain": [
       "   index  numImages\n",
       "0  noise     212254"
      ]
     },
     "execution_count": 38,
     "metadata": {},
     "output_type": "execute_result"
    }
   ],
   "source": [
    "numImagesDistribution[numImagesDistribution['index'] == 'noise']"
   ]
  },
  {
   "cell_type": "code",
   "execution_count": 27,
   "id": "fd72073c-9528-4b7e-a3af-f6fbd86a5957",
   "metadata": {},
   "outputs": [
    {
     "data": {
      "text/plain": [
       "Text(0.5, 1.0, 'Bird image distribution')"
      ]
     },
     "execution_count": 27,
     "metadata": {},
     "output_type": "execute_result"
    },
    {
     "data": {
      "image/png": "[encoded data removed]",
      "text/plain": [
       "<Figure size 432x288 with 1 Axes>"
      ]
     },
     "metadata": {
      "needs_background": "light"
     },
     "output_type": "display_data"
    }
   ],
   "source": [
    "plt.scatter(x=numImagesDistribution[numImagesDistribution['index'] != 'noise'].index, \n",
    "            y=numImagesDistribution[numImagesDistribution['index'] != 'noise'].numImages)\n",
    "plt.xlabel(\"Bird index\")\n",
    "plt.ylabel(\"Number of derived images\")\n",
    "plt.title(\"Bird image distribution\")"
   ]
  },
  {
   "cell_type": "code",
   "execution_count": 54,
   "id": "ff42967c-a390-4a60-be0c-22827eebf216",
   "metadata": {},
   "outputs": [
    {
     "name": "stdout",
     "output_type": "stream",
     "text": [
      "Average number of images = 2251.234256926952\n",
      "Bird stvhum2 has minimum images = 42\n",
      "Bird cubthr has maximum images = 16379\n"
     ]
    }
   ],
   "source": [
    "print(f\"Average number of images = {np.mean(numImagesDistribution[numImagesDistribution['index'] != 'noise'].numImages)}\")\n",
    "minImages = np.min(numImagesDistribution[numImagesDistribution['index'] != 'noise'].numImages)\n",
    "minImageBird = numImagesDistribution[numImagesDistribution['numImages'] == minImages]['index'].item()\n",
    "print(f\"Bird {minImageBird} has minimum images = {minImages}\")\n",
    "maxImages = np.max(numImagesDistribution[numImagesDistribution['index'] != 'noise'].numImages)\n",
    "maxImageBird = numImagesDistribution[numImagesDistribution['numImages'] == maxImages]['index'].item()\n",
    "print(f\"Bird {maxImageBird} has maximum images = {maxImages}\")"
   ]
  },
  {
   "cell_type": "code",
   "execution_count": null,
   "id": "f5e6eef3-32d2-4149-8808-2c11f9ade224",
   "metadata": {},
   "outputs": [],
   "source": []
  }
 ],
 "metadata": {
  "kernelspec": {
   "display_name": "Python 3",
   "language": "python",
   "name": "python3"
  },
  "language_info": {
   "codemirror_mode": {
    "name": "ipython",
    "version": 3
   },
   "file_extension": ".py",
   "mimetype": "text/x-python",
   "name": "python",
   "nbconvert_exporter": "python",
   "pygments_lexer": "ipython3",
   "version": "3.7.6"
  }
 },
 "nbformat": 4,
 "nbformat_minor": 5
}
