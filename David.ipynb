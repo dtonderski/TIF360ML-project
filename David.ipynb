{
 "cells": [
  {
   "cell_type": "code",
   "execution_count": 1,
   "id": "chief-wheel",
   "metadata": {},
   "outputs": [],
   "source": [
    "import audio\n",
    "import cv2\n",
    "import librosa\n",
    "from matplotlib import pyplot as plt\n",
    "from librosa.display import waveplot\n",
    "import IPython.display as ipd\n",
    "import pandas as pd\n",
    "import os"
   ]
  },
  {
   "cell_type": "code",
   "execution_count": 2,
   "id": "monetary-correspondence",
   "metadata": {
    "scrolled": true
   },
   "outputs": [],
   "source": [
    "# audio_path = 'data/birdclef-2021/train_short_audio/acafly/\\XC135020.ogg'\n",
    "\n",
    "# sig, rate = librosa.load(audio_path, sr=None, offset=None, duration=None)\n",
    "# plt.figure(figsize=(15, 5))\n",
    "# plt.grid('on')\n",
    "# librosa.display.waveplot(sig, sr = rate)\n",
    "# plt.show()\n",
    "# ipd.Audio(audio_path)"
   ]
  },
  {
   "cell_type": "code",
   "execution_count": 3,
   "id": "saved-membrane",
   "metadata": {},
   "outputs": [],
   "source": [
    "# seconds = 3\n",
    "# overlap = 0\n",
    "\n",
    "# for i, spec in enumerate(audio.specs_from_file(audio_path, seconds, overlap, shape=(128, 256), fmin=500,fmax=22500)):\n",
    "#     start = i*(seconds-overlap)\n",
    "#     end = i*(seconds-overlap) + seconds\n",
    "#     print(\"Start = %d, end = %d, SNR = %.3f\" % (start, end, audio.signal2noise(spec)), end = '\\r')\n",
    "#     cv2.imshow(\"a\", spec)\n",
    "#     cv2.waitKey(0)\n",
    "# cv2.destroyAllWindows()"
   ]
  },
  {
   "cell_type": "code",
   "execution_count": 4,
   "id": "champion-relay",
   "metadata": {},
   "outputs": [],
   "source": [
    "# cv2.destroyAllWindows()"
   ]
  },
  {
   "cell_type": "code",
   "execution_count": 5,
   "id": "demonstrated-bennett",
   "metadata": {},
   "outputs": [],
   "source": [
    "df = pd.read_csv('data/birdclef-2021/train_metadata.csv')"
   ]
  },
  {
   "cell_type": "code",
   "execution_count": null,
   "id": "gross-pressure",
   "metadata": {
    "scrolled": true
   },
   "outputs": [],
   "source": [
    "import warnings\n",
    "warnings.filterwarnings('ignore')\n",
    "\n",
    "n_samples = df.shape[0]\n",
    "seconds = 5\n",
    "overlap = 2\n",
    "\n",
    "for i_sample in range(n_samples):\n",
    "    print(\"Sample %d of %d\" % (i_sample+1, n_samples), end = '\\r')\n",
    "    load_path = \"data/birdclef-2021/train_short_audio/\" + df.primary_label[i_sample] + \"/\" + df.filename[i_sample]\n",
    "    specs = audio.specs_from_file(load_path, seconds, overlap, shape=(128, 256), fmin=500,fmax=22500)\n",
    "\n",
    "    for i, spec in enumerate(specs):\n",
    "        snr = audio.signal2noise(spec)\n",
    "#         img_name = df.filename[i_sample].split('.ogg')[0]\n",
    "        root_save_dir = \"data/birdclef-2021-parsed/train_short_audio/\"\n",
    "        if snr > 0.01:\n",
    "            save_dir = root_save_dir + \"%s/\" % (df.primary_label[i_sample])\n",
    "        else:\n",
    "            save_dir = root_save_dir + \"noise/\"\n",
    "            \n",
    "        os.makedirs(save_dir, exist_ok = True)\n",
    "        save_path = save_dir + \"%s_%03d\" % (df.filename[i_sample],i) + '.png'\n",
    "        cv2.imwrite(save_path, (spec*255))\n",
    "        #print(save_path)"
   ]
  },
  {
   "cell_type": "code",
   "execution_count": null,
   "id": "approximate-durham",
   "metadata": {},
   "outputs": [],
   "source": []
  }
 ],
 "metadata": {
  "kernelspec": {
   "display_name": "Python 3",
   "language": "python",
   "name": "python3"
  },
  "language_info": {
   "codemirror_mode": {
    "name": "ipython",
    "version": 3
   },
   "file_extension": ".py",
   "mimetype": "text/x-python",
   "name": "python",
   "nbconvert_exporter": "python",
   "pygments_lexer": "ipython3",
   "version": "3.8.7"
  }
 },
 "nbformat": 4,
 "nbformat_minor": 5
}
